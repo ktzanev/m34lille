{
  "nbformat": 4,
  "nbformat_minor": 0,
  "metadata": {
    "colab": {
      "name": "Untitled3.ipynb",
      "version": "0.3.2",
      "provenance": [],
      "include_colab_link": true
    },
    "kernelspec": {
      "name": "python3",
      "display_name": "Python 3"
    }
  },
  "cells": [
    {
      "cell_type": "markdown",
      "metadata": {
        "id": "view-in-github",
        "colab_type": "text"
      },
      "source": [
        "<a href=\"https://colab.research.google.com/github/ktzanev/m34lille/blob/master/tp0.ipynb\" target=\"_parent\"><img src=\"https://colab.research.google.com/assets/colab-badge.svg\" alt=\"Open In Colab\"/></a>"
      ]
    },
    {
      "cell_type": "markdown",
      "metadata": {
        "id": "v1LXtpBsDARq",
        "colab_type": "text"
      },
      "source": [
        "# Presentation\n",
        "\n",
        "Python est un langage qui peut s'utiliser dans de nombreux contextes et s'adapter à tout type d'utilisation grâce à des bibliothèques spécialisées. Il est cependant particulièrement utilisé comme langage de script pour automatiser des tâches simples mais fastidieuses, comme un script qui récupérerait la météo sur Internet ou qui s'intégrerait dans un logiciel de conception assistée par ordinateur afin d'automatiser certains encha înements d'actions répétitives. On l'utilise également comme langage de développement de prototype lorsqu'on a besoin d'une application fonctionnelle avant de l'optimiser avec un langage de plus bas niveau. Il est particulièrement répandu dans le monde scientifique, et possède de nombreuses extensions destinées aux applications numériques. (Source : Wikipedia)"
      ]
    },
    {
      "cell_type": "markdown",
      "metadata": {
        "id": "hQih-Ap6F88E",
        "colab_type": "text"
      },
      "source": [
        "## Les nombres entiers\n"
      ]
    },
    {
      "cell_type": "markdown",
      "metadata": {
        "id": "o99gRo73DWfx",
        "colab_type": "text"
      },
      "source": [
        "- Que donne la commande suivante ?\n",
        "\n"
      ]
    },
    {
      "cell_type": "code",
      "metadata": {
        "id": "4icYj8ltDOgi",
        "colab_type": "code",
        "colab": {}
      },
      "source": [
        "type(4)"
      ],
      "execution_count": 0,
      "outputs": []
    },
    {
      "cell_type": "markdown",
      "metadata": {
        "id": "JTSSUHarDyIk",
        "colab_type": "text"
      },
      "source": [
        "- Tester les quatre opérations de base `+`, `-`, `*` et `/` sur des entiers relatifs. _Vous pouvez utiliser la variable prédéfinie `_` pour rappeler le dernier résultat._\n",
        "\n",
        "---\n",
        "\n"
      ]
    },
    {
      "cell_type": "code",
      "metadata": {
        "id": "2mEixMjuDc9v",
        "colab_type": "code",
        "colab": {}
      },
      "source": [
        "1+2"
      ],
      "execution_count": 0,
      "outputs": []
    },
    {
      "cell_type": "code",
      "metadata": {
        "id": "5M6UeMuEEbTj",
        "colab_type": "code",
        "colab": {}
      },
      "source": [
        "_ * 2 + 1"
      ],
      "execution_count": 0,
      "outputs": []
    },
    {
      "cell_type": "markdown",
      "metadata": {
        "id": "lB0G56_GGeCt",
        "colab_type": "text"
      },
      "source": [
        "- Essayez et commentez :"
      ]
    },
    {
      "cell_type": "code",
      "metadata": {
        "id": "jo4coNkuEOCt",
        "colab_type": "code",
        "colab": {}
      },
      "source": [
        "20 / 3"
      ],
      "execution_count": 0,
      "outputs": []
    },
    {
      "cell_type": "code",
      "metadata": {
        "id": "3qVzpz5WIlmI",
        "colab_type": "code",
        "colab": {}
      },
      "source": [
        "20 // 3"
      ],
      "execution_count": 0,
      "outputs": []
    },
    {
      "cell_type": "code",
      "metadata": {
        "id": "FJCq9BdQI3yQ",
        "colab_type": "code",
        "colab": {}
      },
      "source": [
        "20 % 3"
      ],
      "execution_count": 0,
      "outputs": []
    },
    {
      "cell_type": "markdown",
      "metadata": {
        "id": "Uaszmn_4JAeR",
        "colab_type": "text"
      },
      "source": [
        "## Hiérarchie des opérateurs"
      ]
    },
    {
      "cell_type": "markdown",
      "metadata": {
        "id": "AEkD7BT8JC50",
        "colab_type": "text"
      },
      "source": [
        "- Essayez et commentez :"
      ]
    },
    {
      "cell_type": "code",
      "metadata": {
        "id": "1pY6jQi_JFdq",
        "colab_type": "code",
        "colab": {}
      },
      "source": [
        "7 + 3 * 4"
      ],
      "execution_count": 0,
      "outputs": []
    },
    {
      "cell_type": "code",
      "metadata": {
        "id": "CyoAUNZXJHe_",
        "colab_type": "code",
        "colab": {}
      },
      "source": [
        "(7 + 3) * 4"
      ],
      "execution_count": 0,
      "outputs": []
    },
    {
      "cell_type": "code",
      "metadata": {
        "id": "SMhoB9rkJQJd",
        "colab_type": "code",
        "colab": {}
      },
      "source": [
        "18 @ 3"
      ],
      "execution_count": 0,
      "outputs": []
    },
    {
      "cell_type": "code",
      "metadata": {
        "id": "-5aLA9owJMp8",
        "colab_type": "code",
        "colab": {}
      },
      "source": [
        "15 / 0"
      ],
      "execution_count": 0,
      "outputs": []
    },
    {
      "cell_type": "code",
      "metadata": {
        "id": "92SAQM4qJJcm",
        "colab_type": "code",
        "colab": {}
      },
      "source": [
        ""
      ],
      "execution_count": 0,
      "outputs": []
    },
    {
      "cell_type": "markdown",
      "metadata": {
        "id": "2gXYJZHiKZi-",
        "colab_type": "text"
      },
      "source": [
        "- Essayez de trouver la limite des nombres entiers en faisant : `1*1000` puis en répétant `_*1000`"
      ]
    },
    {
      "cell_type": "code",
      "metadata": {
        "id": "oU3Bc3NwKf9Y",
        "colab_type": "code",
        "colab": {}
      },
      "source": [
        "1*1000"
      ],
      "execution_count": 0,
      "outputs": []
    },
    {
      "cell_type": "code",
      "metadata": {
        "id": "iZVHfQAeKjuh",
        "colab_type": "code",
        "colab": {}
      },
      "source": [
        "_*_"
      ],
      "execution_count": 0,
      "outputs": []
    },
    {
      "cell_type": "code",
      "metadata": {
        "id": "CtTh8_OUK8zx",
        "colab_type": "code",
        "colab": {}
      },
      "source": [
        "2**20000"
      ],
      "execution_count": 0,
      "outputs": []
    },
    {
      "cell_type": "markdown",
      "metadata": {
        "id": "4mXcU9e-MEHK",
        "colab_type": "text"
      },
      "source": [
        "<style>\n",
        "  code {\n",
        "    color:red;\n",
        "  }\n",
        "</style>\n",
        "\n",
        "## Les flottants\n",
        "\n",
        "Ils sont notés par la présence d'un point décimal `.` ou une notation exponentielle `e` ou `E`  dans le nombre `2.718` ou `3e8`.\n",
        "\n",
        "- Essayez l'instruction `type(4.56)`.\n",
        "- Les opérateurs arithmétiques sont les mêmes que ceux déjà vus, essayez-en quelques uns. Que font ces opérateurs ? Fonctionnent-ils avec les autres types déjà vus ?\n",
        "- Essayez les instructions `20.0 // 3`, `20.0 \\% 3`, `2.0 ** 10`, `5 ** 2 \\% 3` (Ici, quel est l'opérateur prioritaire ?) et `5 % 2 ** 3` (Et là ?)"
      ]
    },
    {
      "cell_type": "code",
      "metadata": {
        "id": "nhYW-lykS89V",
        "colab_type": "code",
        "colab": {
          "base_uri": "https://localhost:8080/",
          "height": 122
        },
        "outputId": "cc6a2668-d071-4b78-c836-91eb5f470714"
      },
      "source": [
        "!git clone https://github.com/ktzanev/m34lille.git"
      ],
      "execution_count": 6,
      "outputs": [
        {
          "output_type": "stream",
          "text": [
            "Cloning into 'm34lille'...\n",
            "remote: Enumerating objects: 12, done.\u001b[K\n",
            "remote: Counting objects:   8% (1/12)\u001b[K\rremote: Counting objects:  16% (2/12)\u001b[K\rremote: Counting objects:  25% (3/12)\u001b[K\rremote: Counting objects:  33% (4/12)\u001b[K\rremote: Counting objects:  41% (5/12)\u001b[K\rremote: Counting objects:  50% (6/12)\u001b[K\rremote: Counting objects:  58% (7/12)\u001b[K\rremote: Counting objects:  66% (8/12)\u001b[K\rremote: Counting objects:  75% (9/12)\u001b[K\rremote: Counting objects:  83% (10/12)\u001b[K\rremote: Counting objects:  91% (11/12)\u001b[K\rremote: Counting objects: 100% (12/12)\u001b[K\rremote: Counting objects: 100% (12/12), done.\u001b[K\n",
            "remote: Compressing objects:  10% (1/10)\u001b[K\rremote: Compressing objects:  20% (2/10)\u001b[K\rremote: Compressing objects:  30% (3/10)\u001b[K\rremote: Compressing objects:  40% (4/10)\u001b[K\rremote: Compressing objects:  50% (5/10)\u001b[K\rremote: Compressing objects:  60% (6/10)\u001b[K\rremote: Compressing objects:  70% (7/10)\u001b[K\rremote: Compressing objects:  80% (8/10)\u001b[K\rremote: Compressing objects:  90% (9/10)\u001b[K\rremote: Compressing objects: 100% (10/10)\u001b[K\rremote: Compressing objects: 100% (10/10), done.\u001b[K\n",
            "remote: Total 12 (delta 2), reused 0 (delta 0), pack-reused 0\u001b[K\n",
            "Unpacking objects:   8% (1/12)   \rUnpacking objects:  16% (2/12)   \rUnpacking objects:  25% (3/12)   \rUnpacking objects:  33% (4/12)   \rUnpacking objects:  41% (5/12)   \rUnpacking objects:  50% (6/12)   \rUnpacking objects:  58% (7/12)   \rUnpacking objects:  66% (8/12)   \rUnpacking objects:  75% (9/12)   \rUnpacking objects:  83% (10/12)   \rUnpacking objects:  91% (11/12)   \rUnpacking objects: 100% (12/12)   \rUnpacking objects: 100% (12/12), done.\n"
          ],
          "name": "stdout"
        }
      ]
    },
    {
      "cell_type": "code",
      "metadata": {
        "id": "4FX6WXeGTrj_",
        "colab_type": "code",
        "colab": {
          "base_uri": "https://localhost:8080/",
          "height": 34
        },
        "outputId": "5a3a3c18-4705-4fdb-f64d-5532a54be369"
      },
      "source": [
        "!ls"
      ],
      "execution_count": 9,
      "outputs": [
        {
          "output_type": "stream",
          "text": [
            "m34lille  sample_data\n"
          ],
          "name": "stdout"
        }
      ]
    },
    {
      "cell_type": "code",
      "metadata": {
        "id": "PDUWA4tpMhcY",
        "colab_type": "code",
        "colab": {
          "base_uri": "https://localhost:8080/",
          "height": 34
        },
        "outputId": "19863f8c-1f3d-4984-b40e-34a1b0ea11a4"
      },
      "source": [
        "from IPython.core.display import HTML\n",
        "def css_styling():\n",
        "    styles = open(\"m34lille/custom.css\", \"r\").read()\n",
        "    return HTML(styles)\n",
        "css_styling()"
      ],
      "execution_count": 10,
      "outputs": [
        {
          "output_type": "execute_result",
          "data": {
            "text/html": [
              "code {\n",
              "  color: red;\n",
              "}\n"
            ],
            "text/plain": [
              "<IPython.core.display.HTML object>"
            ]
          },
          "metadata": {
            "tags": []
          },
          "execution_count": 10
        }
      ]
    }
  ]
}