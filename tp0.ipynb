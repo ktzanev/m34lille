{
  "nbformat": 4,
  "nbformat_minor": 0,
  "metadata": {
    "colab": {
      "name": "Untitled3.ipynb",
      "version": "0.3.2",
      "provenance": [],
      "include_colab_link": true
    },
    "kernelspec": {
      "name": "python3",
      "display_name": "Python 3"
    }
  },
  "cells": [
    {
      "cell_type": "markdown",
      "metadata": {
        "id": "view-in-github",
        "colab_type": "text"
      },
      "source": [
        "<a href=\"https://colab.research.google.com/github/ktzanev/m34lille/blob/master/tp0.ipynb\" target=\"_parent\"><img src=\"https://colab.research.google.com/assets/colab-badge.svg\" alt=\"Open In Colab\"/></a>"
      ]
    },
    {
      "cell_type": "markdown",
      "metadata": {
        "id": "v1LXtpBsDARq",
        "colab_type": "text"
      },
      "source": [
        "# Presentation\n",
        "\n",
        "Python est un langage qui peut s'utiliser dans de nombreux contextes et s'adapter à tout type d'utilisation grâce à des bibliothèques spécialisées. Il est cependant particulièrement utilisé comme langage de script pour automatiser des tâches simples mais fastidieuses, comme un script qui récupérerait la météo sur Internet ou qui s'intégrerait dans un logiciel de conception assistée par ordinateur afin d'automatiser certains encha înements d'actions répétitives. On l'utilise également comme langage de développement de prototype lorsqu'on a besoin d'une application fonctionnelle avant de l'optimiser avec un langage de plus bas niveau. Il est particulièrement répandu dans le monde scientifique, et possède de nombreuses extensions destinées aux applications numériques. (Source : Wikipedia)"
      ]
    },
    {
      "cell_type": "markdown",
      "metadata": {
        "id": "hQih-Ap6F88E",
        "colab_type": "text"
      },
      "source": [
        "## Les nombres entiers\n"
      ]
    },
    {
      "cell_type": "markdown",
      "metadata": {
        "id": "o99gRo73DWfx",
        "colab_type": "text"
      },
      "source": [
        "- Que donne la commande suivante ?\n",
        "\n"
      ]
    },
    {
      "cell_type": "code",
      "metadata": {
        "id": "4icYj8ltDOgi",
        "colab_type": "code",
        "colab": {}
      },
      "source": [
        "type(4)"
      ],
      "execution_count": 0,
      "outputs": []
    },
    {
      "cell_type": "markdown",
      "metadata": {
        "id": "JTSSUHarDyIk",
        "colab_type": "text"
      },
      "source": [
        "- Tester les quatre opérations de base `+`, `-`, `*` et `/` sur des entiers relatifs. _Vous pouvez utiliser la variable prédéfinie `_` pour rappeler le dernier résultat._"
      ]
    },
    {
      "cell_type": "code",
      "metadata": {
        "id": "2mEixMjuDc9v",
        "colab_type": "code",
        "colab": {}
      },
      "source": [
        "1+2"
      ],
      "execution_count": 0,
      "outputs": []
    },
    {
      "cell_type": "code",
      "metadata": {
        "id": "5M6UeMuEEbTj",
        "colab_type": "code",
        "colab": {}
      },
      "source": [
        "_ * 2 + 1"
      ],
      "execution_count": 0,
      "outputs": []
    },
    {
      "cell_type": "markdown",
      "metadata": {
        "id": "lB0G56_GGeCt",
        "colab_type": "text"
      },
      "source": [
        "- Essayez et commentez :"
      ]
    },
    {
      "cell_type": "code",
      "metadata": {
        "id": "jo4coNkuEOCt",
        "colab_type": "code",
        "colab": {}
      },
      "source": [
        "20 / 3"
      ],
      "execution_count": 0,
      "outputs": []
    },
    {
      "cell_type": "code",
      "metadata": {
        "id": "3qVzpz5WIlmI",
        "colab_type": "code",
        "colab": {}
      },
      "source": [
        "20 // 3"
      ],
      "execution_count": 0,
      "outputs": []
    },
    {
      "cell_type": "code",
      "metadata": {
        "id": "FJCq9BdQI3yQ",
        "colab_type": "code",
        "colab": {}
      },
      "source": [
        "20 % 3"
      ],
      "execution_count": 0,
      "outputs": []
    },
    {
      "cell_type": "markdown",
      "metadata": {
        "id": "Uaszmn_4JAeR",
        "colab_type": "text"
      },
      "source": [
        "## Hiérarchie des opérateurs"
      ]
    },
    {
      "cell_type": "markdown",
      "metadata": {
        "id": "AEkD7BT8JC50",
        "colab_type": "text"
      },
      "source": [
        "- Essayez et commentez :"
      ]
    },
    {
      "cell_type": "code",
      "metadata": {
        "id": "1pY6jQi_JFdq",
        "colab_type": "code",
        "colab": {}
      },
      "source": [
        "7 + 3 * 4"
      ],
      "execution_count": 0,
      "outputs": []
    },
    {
      "cell_type": "code",
      "metadata": {
        "id": "CyoAUNZXJHe_",
        "colab_type": "code",
        "colab": {}
      },
      "source": [
        "(7 + 3) * 4"
      ],
      "execution_count": 0,
      "outputs": []
    },
    {
      "cell_type": "code",
      "metadata": {
        "id": "SMhoB9rkJQJd",
        "colab_type": "code",
        "colab": {}
      },
      "source": [
        "18 @ 3"
      ],
      "execution_count": 0,
      "outputs": []
    },
    {
      "cell_type": "code",
      "metadata": {
        "id": "-5aLA9owJMp8",
        "colab_type": "code",
        "colab": {}
      },
      "source": [
        "15 / 0"
      ],
      "execution_count": 0,
      "outputs": []
    },
    {
      "cell_type": "code",
      "metadata": {
        "id": "92SAQM4qJJcm",
        "colab_type": "code",
        "colab": {}
      },
      "source": [
        ""
      ],
      "execution_count": 0,
      "outputs": []
    },
    {
      "cell_type": "markdown",
      "metadata": {
        "id": "2gXYJZHiKZi-",
        "colab_type": "text"
      },
      "source": [
        "- Essayez de trouver la limite des nombres entiers en faisant : `1*1000` puis en répétant `_*1000`"
      ]
    },
    {
      "cell_type": "code",
      "metadata": {
        "id": "oU3Bc3NwKf9Y",
        "colab_type": "code",
        "colab": {}
      },
      "source": [
        "1*1000"
      ],
      "execution_count": 0,
      "outputs": []
    },
    {
      "cell_type": "code",
      "metadata": {
        "id": "iZVHfQAeKjuh",
        "colab_type": "code",
        "colab": {}
      },
      "source": [
        "_*_"
      ],
      "execution_count": 0,
      "outputs": []
    },
    {
      "cell_type": "code",
      "metadata": {
        "id": "CtTh8_OUK8zx",
        "colab_type": "code",
        "colab": {}
      },
      "source": [
        "2**20000"
      ],
      "execution_count": 0,
      "outputs": []
    },
    {
      "cell_type": "markdown",
      "metadata": {
        "id": "4mXcU9e-MEHK",
        "colab_type": "text"
      },
      "source": [
        "<style>\n",
        "  code {\n",
        "    color:red;\n",
        "  }\n",
        "</style>\n",
        "\n",
        "## Les flottants\n",
        "\n",
        "Ils sont notés par la présence d'un point décimal `.` ou une notation exponentielle `e` ou `E`  dans le nombre `2.718` ou `3e8`.\n",
        "\n",
        "- Essayez l'instruction `type(4.56)`.\n",
        "- Les opérateurs arithmétiques sont les mêmes que ceux déjà vus, essayez-en quelques uns. Que font ces opérateurs ? Fonctionnent-ils avec les autres types déjà vus ?\n",
        "- Essayez les instructions `20.0 // 3`, `20.0 \\% 3`, `2.0 ** 10`, `5 ** 2 \\% 3` (Ici, quel est l'opérateur prioritaire ?) et `5 % 2 ** 3` (Et là ?)"
      ]
    },
    {
      "cell_type": "code",
      "metadata": {
        "id": "PDUWA4tpMhcY",
        "colab_type": "code",
        "colab": {}
      },
      "source": [
        ""
      ],
      "execution_count": 0,
      "outputs": []
    }
  ]
}